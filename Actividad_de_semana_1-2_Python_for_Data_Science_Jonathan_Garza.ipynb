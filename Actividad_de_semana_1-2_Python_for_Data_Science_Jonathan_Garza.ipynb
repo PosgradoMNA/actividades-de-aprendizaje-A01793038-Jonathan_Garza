{
  "nbformat": 4,
  "nbformat_minor": 0,
  "metadata": {
    "colab": {
      "name": "assignment01.ipynb",
      "provenance": [],
      "include_colab_link": true
    },
    "kernelspec": {
      "name": "python3",
      "display_name": "Python 3"
    },
    "language_info": {
      "name": "python"
    }
  },
  "cells": [
    {
      "cell_type": "markdown",
      "metadata": {
        "id": "view-in-github",
        "colab_type": "text"
      },
      "source": [
        "<a href=\"https://colab.research.google.com/github/PosgradoMNA/actividades-de-aprendizaje-A01793038-Jonathan_Garza/blob/main/Actividad_de_semana_1-2_Python_for_Data_Science_Jonathan_Garza.ipynb\" target=\"_parent\"><img src=\"https://colab.research.google.com/assets/colab-badge.svg\" alt=\"Open In Colab\"/></a>"
      ]
    },
    {
      "cell_type": "markdown",
      "source": [
        "**Módulo 1: Python Basics**"
      ],
      "metadata": {
        "id": "uWhi7sWTyrND"
      }
    },
    {
      "cell_type": "markdown",
      "source": [
        "El primer programa en Python the Jonathan"
      ],
      "metadata": {
        "id": "O7V7f115abQS"
      }
    },
    {
      "cell_type": "code",
      "execution_count": null,
      "metadata": {
        "id": "LzUSMM79NR9P",
        "outputId": "63809561-ba79-4d43-802f-a69ee3737560",
        "colab": {
          "base_uri": "https://localhost:8080/"
        }
      },
      "outputs": [
        {
          "output_type": "stream",
          "name": "stdout",
          "text": [
            "Hola Mundo\n",
            "Hello\n",
            "World\n"
          ]
        }
      ],
      "source": [
        "#Primer Programa de Jonathan - Esta línea no se ejecutará porque es un comentario\n",
        "print('Hola Mundo')\n",
        "\n",
        "#La siguiente línea imprimirá en pantalla la misma frase, pero con un salto de línea:\n",
        "print(\"Hello\\nWorld\")"
      ]
    },
    {
      "cell_type": "markdown",
      "source": [
        "Tipos de Datos"
      ],
      "metadata": {
        "id": "KoodIda1anuT"
      }
    },
    {
      "cell_type": "code",
      "source": [
        "#Importar módulo de información del sisteme\n",
        "import sys\n",
        "\n",
        "#Versión de Python\n",
        "print(sys.version)\n",
        "\n",
        "# String\n",
        "tipo_string=type('Hola Mundo')\n",
        "\n",
        "print(tipo_string)\n",
        "\n",
        "#Integer\n",
        "\n",
        "tipo_integer=type(1)\n",
        "\n",
        "print(tipo_integer)\n",
        "\n",
        "#Float\n",
        "tipo_float=type(1.1)\n",
        "\n",
        "print(tipo_float)\n",
        "\n",
        "#Bool\n",
        "\n",
        "tipo_bool=type(True);\n",
        "\n",
        "print(tipo_bool)\n",
        "\n",
        "#Cambio de tipo de datos ¿Un número siempre es un número?\n",
        "\n",
        "#String\n",
        "tipo_actual=type('1')\n",
        "\n",
        "print(tipo_actual)\n",
        "\n",
        "#Cambio a Integer\n",
        "\n",
        "tipo_actual=type(int('1'))\n",
        "\n",
        "print(tipo_actual)\n",
        "\n",
        "#Cambio a Float\n",
        "\n",
        "tipo_actual=type(float('1'))\n",
        "\n",
        "#¿Cual es el número más grande y pequeño que se puede representar por el sistema?\n",
        "print(sys.float_info)\n",
        "\n",
        "print(tipo_actual)\n",
        "\n",
        "#Cambio a bool\n",
        "\n",
        "tipo_actual=type(bool(int('1')))\n",
        "\n",
        "print(tipo_actual)"
      ],
      "metadata": {
        "id": "mxM_WppZPMFx",
        "colab": {
          "base_uri": "https://localhost:8080/"
        },
        "outputId": "6687a1d0-6cf2-4c18-b306-5565edade620"
      },
      "execution_count": null,
      "outputs": [
        {
          "output_type": "stream",
          "name": "stdout",
          "text": [
            "3.7.14 (default, Sep  8 2022, 00:06:44) \n",
            "[GCC 7.5.0]\n",
            "<class 'str'>\n",
            "<class 'int'>\n",
            "<class 'float'>\n",
            "<class 'bool'>\n",
            "<class 'str'>\n",
            "<class 'int'>\n",
            "sys.float_info(max=1.7976931348623157e+308, max_exp=1024, max_10_exp=308, min=2.2250738585072014e-308, min_exp=-1021, min_10_exp=-307, dig=15, mant_dig=53, epsilon=2.220446049250313e-16, radix=2, rounds=1)\n",
            "<class 'float'>\n",
            "<class 'bool'>\n"
          ]
        }
      ]
    },
    {
      "cell_type": "markdown",
      "source": [
        "Expresiones y Variables"
      ],
      "metadata": {
        "id": "dB26rFZ7iLLR"
      }
    },
    {
      "cell_type": "code",
      "source": [
        "#Suma\n",
        "print(1+2)\n",
        "\n",
        "#Resta\n",
        "print(1-2)\n",
        "\n",
        "#Multiplicación\n",
        "print(2*3)\n",
        "\n",
        "#División\n",
        "print(3/2)\n",
        "\n",
        "#División de Enteros (sólo se entrega el resultado entero de la operación)\n",
        "print(3//2)\n",
        "\n",
        "#Operaciones matemáticas: primero se realizan las multiplicaciones o divisiones y luego las sumas o restas\n",
        "print(3*2+1)\n",
        "\n",
        "#Variables: asignación\n",
        "x=2\n",
        "\n",
        "#Operaciones con variables\n",
        "y=x*2+1\n",
        "print(y)"
      ],
      "metadata": {
        "id": "Lq7_zGT3iRNF",
        "outputId": "d66f77af-273e-4db8-94d3-183ed9f93d08",
        "colab": {
          "base_uri": "https://localhost:8080/"
        }
      },
      "execution_count": null,
      "outputs": [
        {
          "output_type": "stream",
          "name": "stdout",
          "text": [
            "3\n",
            "-1\n",
            "6\n",
            "1.5\n",
            "1\n",
            "7\n",
            "5\n"
          ]
        }
      ]
    },
    {
      "cell_type": "markdown",
      "source": [
        "Operaciones con String"
      ],
      "metadata": {
        "id": "ruBGcVBpo9fk"
      }
    },
    {
      "cell_type": "code",
      "source": [
        "#Crear un string y asignarlo a una variable\n",
        "Letras='ABCDEFGHIJK'\n",
        "print(Letras)\n",
        "\n",
        "#Desplegar los primeros cuatro elementos del string\n",
        "Letras[0:4]\n",
        "\n",
        "#Crear un string y desplegar sus elementos en incrementos de 2\n",
        "Good='GsoAo+d'\n",
        "print(Good)\n",
        "print(Good[::2])\n",
        "\n",
        "#Cambiar de minúsculas a mayúsculas\n",
        "print('mayusculas')\n",
        "print('mayusculas'.upper())\n",
        "\n",
        "#Cambiar de mayúsculas a minúsculas\n",
        "print('MINUSCULAS')\n",
        "print('MINUSCULAS'.lower())\n",
        "\n",
        "#Sumar o concatenar strings\n",
        "print('Soy'+' Jonathan')\n",
        "\n",
        "#Multiplicación de Strings\n",
        "print(3*'Jonathan')\n",
        "\n",
        "#Encontrar un elemente de un String\n",
        "'Jonathan'.find('t')\n",
        "\n",
        "#Despleagar los elementos pares\n",
        "Numbers = \"0123456\"\n",
        "print(Numbers[::2])\n",
        "\n",
        "#Uso de índices negativos (la cuenta empieza del final al principio)\n",
        "Nombre='Jonathan'\n",
        "print(Nombre[-8])\n",
        "\n",
        "#Secuencias de escape en strings\n",
        "#Nueva línea\n",
        "print(\"Michael Jackson \\n is the best\" )\n",
        "\n",
        "#Tab\n",
        "print(\"Michael Jackson \\t is the best\" )\n",
        "\n",
        "#Incluir diagonal invertida en el string\n",
        "print(\"Michael Jackson \\\\ is the best\" )\n",
        "\n",
        "# r indica a Python que el string se deplegará tal cual incluyendo la diagonal invertida\n",
        "print(r\"Michael Jackson \\ is the best\" )\n",
        "\n",
        "#Reemplazar un sub-string por otro\n",
        "a='Michael Jackson'\n",
        "b=a.replace('Michael','Janet')\n",
        "print(b)"
      ],
      "metadata": {
        "id": "qTNbWczJo-O4",
        "outputId": "8e713772-d101-4aa9-fd0c-1c203e530c0c",
        "colab": {
          "base_uri": "https://localhost:8080/"
        }
      },
      "execution_count": null,
      "outputs": [
        {
          "output_type": "stream",
          "name": "stdout",
          "text": [
            "ABCDEFGHIJK\n",
            "GsoAo+d\n",
            "Good\n",
            "mayusculas\n",
            "MAYUSCULAS\n",
            "MINUSCULAS\n",
            "minusculas\n",
            "Soy Jonathan\n",
            "JonathanJonathanJonathan\n",
            "0246\n",
            "J\n",
            "Michael Jackson \n",
            " is the best\n",
            "Michael Jackson \t is the best\n",
            "Michael Jackson \\ is the best\n",
            "Michael Jackson \\ is the best\n",
            "Janet Jackson\n"
          ]
        }
      ]
    },
    {
      "cell_type": "markdown",
      "source": [
        "**Módulo 2:Phyton Data Structures**"
      ],
      "metadata": {
        "id": "CHNAs9mbZKIF"
      }
    },
    {
      "cell_type": "markdown",
      "source": [
        "Listas y Tuples"
      ],
      "metadata": {
        "id": "CtR6PKYhZpn4"
      }
    },
    {
      "cell_type": "code",
      "source": [
        "#Crear un tuple y asignarlo a una variable\n",
        "A=(1,2,3,4)\n",
        "print(A)\n",
        "\n",
        "#Despliega los dos primeros elementos del tuple\n",
        "print(A[0:2])\n",
        "\n",
        "#Crear una Lista\n",
        "B=['a','b','c']\n",
        "print(B)\n",
        "\n",
        "#Despliega los dos primeros elementos de la lista\n",
        "print(B[0:2])\n",
        "\n",
        "#Cambia el primer elemeta de B por una 'A' mayúscula\n",
        "B[0] = 'A'\n",
        "print(B)\n",
        "\n",
        "#Desplegar el último elemento de la lista de dos formas\n",
        "print(B[2])\n",
        "print(B[-1])\n",
        "\n",
        "#Desplegar todos los elementos de la lista a partir del segundo\n",
        "print(B[1:])"
      ],
      "metadata": {
        "colab": {
          "base_uri": "https://localhost:8080/"
        },
        "id": "rCAGj4VmZrrz",
        "outputId": "37e24bae-0acc-434a-85c4-50602f51ae0b"
      },
      "execution_count": 8,
      "outputs": [
        {
          "output_type": "stream",
          "name": "stdout",
          "text": [
            "(1, 2, 3, 4)\n",
            "(1, 2)\n",
            "['a', 'b', 'c']\n",
            "['a', 'b']\n",
            "['A', 'b', 'c']\n",
            "c\n",
            "c\n",
            "['b', 'c']\n"
          ]
        }
      ]
    },
    {
      "cell_type": "markdown",
      "source": [
        "Tuples"
      ],
      "metadata": {
        "id": "GdLGHLd9h5Cs"
      }
    },
    {
      "cell_type": "code",
      "source": [
        "#Crear un tuple con integer, float y string\n",
        "tuple1 = (\"disco\",10,1.2 )\n",
        "print(tuple1)\n",
        "\n",
        "#El tipo de la variable es tuple\n",
        "type(tuple1)\n",
        "\n",
        "#Despliega la variable en cada índice\n",
        "print(tuple1[0])\n",
        "print(tuple1[1])\n",
        "print(tuple1[2])\n",
        "\n",
        "#Despliega el tipo de variable de cada elemento del tuple\n",
        "print(type(tuple1[0]))\n",
        "print(type(tuple1[1]))\n",
        "print(type(tuple1[2]))\n",
        "\n",
        "#También se pueden usar índices negativos\n",
        "print(tuple1[-3])\n",
        "print(tuple1[-2])\n",
        "print(tuple1[-1])\n",
        "\n",
        "#Sumar o concatenar tuples\n",
        "tuple2 = tuple1 + (\"hard rock\", 10)\n",
        "print(tuple2)\n",
        "\n",
        "# Desplegar tuple desde el índice 0 al 2\n",
        "print(tuple2[0:3])\n",
        "\n",
        "# Desplegar tuple desde el índice 3 al 5\n",
        "print(tuple2[3:5])\n",
        "\n",
        "#Obtener la longitud del tuple\n",
        "print(len(tuple2))\n",
        "\n",
        "#Crear un tuple con enteros\n",
        "Ratings = (0, 9, 6, 5, 10, 8, 9, 6, 2)\n",
        "print(Ratings)\n",
        "\n",
        "#Ordenar el tuple\n",
        "RatingsSorted = sorted(Ratings)\n",
        "print(RatingsSorted)\n",
        "\n",
        "#Crear un tuple anidado\n",
        "NestedT =(1, 2, (\"pop\", \"rock\") ,(3,4),(\"disco\",(1,2)))\n",
        "print(NestedT)\n",
        "\n",
        "#Deplegar los elementos del tuple anidado\n",
        "print(\"Elemento 0 del Tuple: \", NestedT[0])\n",
        "print(\"Elemento 0 del Tuple: \", NestedT[1])\n",
        "print(\"Elemento 0 del Tuple: \", NestedT[2])\n",
        "print(\"Elemento 0 del Tuple: \", NestedT[3])\n",
        "print(\"Elemento 0 del Tuple: \", NestedT[4])\n",
        "\n",
        "#Deplegar los elementos de los tuples anidados\n",
        "print(\"Elemento 2, 0 del Tuple: \", NestedT[2][0])\n",
        "print(\"Elemento 2, 1 del Tuple: \", NestedT[2][1])\n",
        "print(\"Elemento 3, 0 del Tuple: \", NestedT[3][0])\n",
        "print(\"Elemento 3, 1 del Tuple: \", NestedT[3][1])\n",
        "print(\"Elemento 4, 0 del Tuple: \", NestedT[4][0])\n",
        "print(\"Elemento 4, 1 del Tuple: \", NestedT[4][1])\n",
        "\n",
        "#Desplegar el primer elemento del segundo tuple anidado en el tercer elemento\n",
        "print(NestedT[2][1][0])\n",
        "\n",
        "#Desplegar el segundo elemento del segundo tuple anidado en el tercer elemento\n",
        "print(NestedT[2][1][1])\n",
        "\n",
        "#Desplegar el todo elemento del segundo tuple anidado en el tercer elemento\n",
        "print(NestedT[2][0])\n",
        "\n",
        "#Desplegar el todo elemento del segundo tuple anidado en el tercer elemento\n",
        "print(NestedT[2][1])\n",
        "\n",
        "#Desplegar el primer elemento del segundo tuple anidado en el cuarto elemento\n",
        "print(NestedT[4][1][0])\n",
        "\n",
        "#Desplegar el segundo elemento del segundo tuple anidado en el cuarto elemento\n",
        "print(NestedT[4][1][1])\n",
        "\n",
        "#Crear un tuple para los géneros\n",
        "genres_tuple = (\"pop\", \"rock\", \"soul\", \"hard rock\", \"soft rock\", \\\n",
        "                \"R&B\", \"progressive rock\", \"disco\") \n",
        "print(genres_tuple)\n",
        "\n",
        "#Determinar la longitud del tuple de géneros\n",
        "len(genres_tuple)\n",
        "\n",
        "#Desplegar el elemento del índice 3:\n",
        "print(genres_tuple[3])\n",
        "\n",
        "#Desplegar los elementos 3, 4 and 5:\n",
        "print(genres_tuple[3:6])\n",
        "\n",
        "#Desplegar los elementos 1 y 2:\n",
        "print(genres_tuple[0:2])\n",
        "\n",
        "#Encontrar el primer índice de 'disco'\n",
        "print(genres_tuple.index('disco'))\n",
        "\n",
        "#Generar un tuple y luego crear una lista ordenada a partir de este\n",
        "C_tuple=(4,7,3,9,1,0)\n",
        "print(C_tuple)\n",
        "lista_ordenada = sorted(C_tuple)\n",
        "print(lista_ordenada)"
      ],
      "metadata": {
        "colab": {
          "base_uri": "https://localhost:8080/"
        },
        "id": "k8-hcXb6h91m",
        "outputId": "c3b67257-5349-405e-f016-34034c4c070f"
      },
      "execution_count": 42,
      "outputs": [
        {
          "output_type": "stream",
          "name": "stdout",
          "text": [
            "('disco', 10, 1.2)\n",
            "disco\n",
            "10\n",
            "1.2\n",
            "<class 'str'>\n",
            "<class 'int'>\n",
            "<class 'float'>\n",
            "disco\n",
            "10\n",
            "1.2\n",
            "('disco', 10, 1.2, 'hard rock', 10)\n",
            "('disco', 10, 1.2)\n",
            "('hard rock', 10)\n",
            "5\n",
            "(0, 9, 6, 5, 10, 8, 9, 6, 2)\n",
            "[0, 2, 5, 6, 6, 8, 9, 9, 10]\n",
            "(1, 2, ('pop', 'rock'), (3, 4), ('disco', (1, 2)))\n",
            "Elemento 0 del Tuple:  1\n",
            "Elemento 0 del Tuple:  2\n",
            "Elemento 0 del Tuple:  ('pop', 'rock')\n",
            "Elemento 0 del Tuple:  (3, 4)\n",
            "Elemento 0 del Tuple:  ('disco', (1, 2))\n",
            "Elemento 2, 0 del Tuple:  pop\n",
            "Elemento 2, 1 del Tuple:  rock\n",
            "Elemento 3, 0 del Tuple:  3\n",
            "Elemento 3, 1 del Tuple:  4\n",
            "Elemento 4, 0 del Tuple:  disco\n",
            "Elemento 4, 1 del Tuple:  (1, 2)\n",
            "r\n",
            "o\n",
            "pop\n",
            "rock\n",
            "1\n",
            "2\n",
            "('pop', 'rock', 'soul', 'hard rock', 'soft rock', 'R&B', 'progressive rock', 'disco')\n",
            "hard rock\n",
            "('hard rock', 'soft rock', 'R&B')\n",
            "('pop', 'rock')\n",
            "7\n",
            "(4, 7, 3, 9, 1, 0)\n",
            "[0, 1, 3, 4, 7, 9]\n"
          ]
        }
      ]
    },
    {
      "cell_type": "markdown",
      "source": [
        "Listas"
      ],
      "metadata": {
        "id": "_CDwATSqLo1r"
      }
    },
    {
      "cell_type": "code",
      "source": [
        "# Crear una lista\n",
        "L = [\"Michael Jackson\", 10.1, 1982]\n",
        "print(L)\n",
        "\n",
        "#Desplegar los elementos de la lista usando los dos tipos de índices\n",
        "print('El mismo elemento usando índices postivos y negativos:\\n Postivo:',L[0],\n",
        "'\\n Negativo:' , L[-3]  )\n",
        "print('El mismo elemento usando índices postivos y negativos:\\n Postivo:',L[1],\n",
        "'\\n Negativo:' , L[-2]  )\n",
        "print('El mismo elemento usando índices postivos y negativos:\\n Postivo:',L[2],\n",
        "'\\n Negativo:' , L[-1]  )\n",
        "\n",
        "#Las listas pueden contener varios elementos: integer, floats, string, listas, tuples\n",
        "\n",
        "#Operaciones con listas, obtener los elementos usando los índices\n",
        "L = [\"Michael Jackson\", 10.1,1982,\"MJ\",1]\n",
        "print(L)\n",
        "\n",
        "#Desplegar los elementos del índice 3 al 5\n",
        "print(L[3:5])\n",
        "\n",
        "#Añadir dos elementos adiconales a la lista\n",
        "L = [ \"Michael Jackson\", 10.2]\n",
        "L.extend(['pop', 10])\n",
        "print(L)\n",
        "\n",
        "#Añadir una lista anidada:\n",
        "L = [ \"Michael Jackson\", 10.2]\n",
        "L.append(['pop', 10])\n",
        "print(L)\n",
        "\n",
        "# Cambiar un elemento usando los índices\n",
        "A = [\"disco\", 10, 1.2]\n",
        "print('Antes del cambio:', A)\n",
        "A[0] = 'hard rock'\n",
        "print('Después del cambio:', A)\n",
        "\n",
        "# Eliminar un elemento usando los índices\n",
        "print('Antes del cambio:', A)\n",
        "del(A[0])\n",
        "print('Después del cambio:', A)\n",
        "\n",
        "# Crear una lista dividiendo un string, por defecto se usan los espacios\n",
        "A='hard rock'\n",
        "print(A)\n",
        "print(A.split())\n",
        "\n",
        "# Crear una lista dividiendo un string, usando comas\n",
        "A='A,B,C,D'\n",
        "print(A)\n",
        "print(A.split(','))\n",
        "\n",
        "#Cuando se copia una lista en otra variable, ambas listas están referenciadas a la misma región en memoria\n",
        "A = [\"hard rock\", 10, 1.2]\n",
        "B = A\n",
        "print('A:', A)\n",
        "print('B:', B)\n",
        "\n",
        "#Si se cambia un elemento en una, se cambia también en la otra\n",
        "print('B[0]:', B[0])\n",
        "A[0] = \"banana\"\n",
        "print('B[0]:', B[0])\n",
        "\n",
        "#Para evitar esto, se puede clonar una lista en vez de copiarla\n",
        "B = A[:]\n",
        "print(B)\n",
        "print('B[0]:', B[0])\n",
        "A[0] = \"hard rock\"\n",
        "print('B[0]:', B[0])\n",
        "\n",
        "#Crear una lista con los siguientes elementos 1, hello, [1,2,3] and True\n",
        "Lista=[1, 'hello', [1,2,3],True]\n",
        "print(Lista)\n",
        "\n",
        "#Desplegar los elementos de los índices 1, 2 y 3 de la lista\n",
        "print(Lista[1:4])\n",
        "\n",
        "#Concatenar las dos listas A = [1, 'a'] and B = [2, 1, 'd']\n",
        "A = [1, 'a']\n",
        "print(A)\n",
        "B = [2, 1, 'd']\n",
        "print(B)\n",
        "#Primera opción\n",
        "A=A+B\n",
        "print(A)\n",
        "#Segunda opción\n",
        "A = [1, 'a']\n",
        "print(A)\n",
        "B = [2, 1, 'd']\n",
        "print(B)\n",
        "A.extend(B)\n",
        "print(A)"
      ],
      "metadata": {
        "colab": {
          "base_uri": "https://localhost:8080/"
        },
        "id": "b3mbjHmXLqwS",
        "outputId": "ee7fe6dc-bb46-49d5-cf28-9e05e3d5706e"
      },
      "execution_count": 57,
      "outputs": [
        {
          "output_type": "stream",
          "name": "stdout",
          "text": [
            "['Michael Jackson', 10.1, 1982]\n",
            "El mismo elemento usando índices postivos y negativos:\n",
            " Postivo: Michael Jackson \n",
            " Negativo: Michael Jackson\n",
            "El mismo elemento usando índices postivos y negativos:\n",
            " Postivo: 10.1 \n",
            " Negativo: 10.1\n",
            "El mismo elemento usando índices postivos y negativos:\n",
            " Postivo: 1982 \n",
            " Negativo: 1982\n",
            "['Michael Jackson', 10.1, 1982, 'MJ', 1]\n",
            "['MJ', 1]\n",
            "['Michael Jackson', 10.2, 'pop', 10]\n",
            "['Michael Jackson', 10.2, ['pop', 10]]\n",
            "Antes del cambio: ['disco', 10, 1.2]\n",
            "Después del cambio: ['hard rock', 10, 1.2]\n",
            "Antes del cambio: ['hard rock', 10, 1.2]\n",
            "Después del cambio: [10, 1.2]\n",
            "hard rock\n",
            "['hard', 'rock']\n",
            "A,B,C,D\n",
            "['A', 'B', 'C', 'D']\n",
            "A: ['hard rock', 10, 1.2]\n",
            "B: ['hard rock', 10, 1.2]\n",
            "B[0]: hard rock\n",
            "B[0]: banana\n",
            "['banana', 10, 1.2]\n",
            "B[0]: banana\n",
            "B[0]: banana\n",
            "[1, 'hello', [1, 2, 3], True]\n",
            "['hello', [1, 2, 3], True]\n",
            "[1, 'a']\n",
            "[2, 1, 'd']\n",
            "[1, 'a', 2, 1, 'd']\n",
            "[1, 'a']\n",
            "[2, 1, 'd']\n",
            "[1, 'a', 2, 1, 'd']\n"
          ]
        }
      ]
    },
    {
      "cell_type": "markdown",
      "source": [
        "Sets"
      ],
      "metadata": {
        "id": "Opo-LiAjWLw5"
      }
    },
    {
      "cell_type": "code",
      "source": [
        "#Transformar una lista a set\n",
        "A=set(['A','B','C','A','B','C'])\n",
        "print(A)\n",
        "\n",
        "#Añadir un elemento string al set\n",
        "A.add('D')\n",
        "print(A)\n",
        "\n",
        "#Intersección entre dos sets método 1\n",
        "A={1,2,3,4,5}\n",
        "B={1,3,9, 12}\n",
        "print(A)\n",
        "print(B)\n",
        "C=A&B\n",
        "print(C)\n",
        "\n",
        "#Intersección entre dos sets método 2\n",
        "A={1,2,3,4,5}\n",
        "B={1,3,9, 12}\n",
        "print(A)\n",
        "print(B)\n",
        "C=A.intersection(B)\n",
        "print(C)\n",
        "\n",
        "#Verificar si un elemento se encuentra en el set\n",
        "A={1,2,3,4,5}\n",
        "print(1 in A)\n",
        "\n",
        "#Quitar un elemento del set\n",
        "A={1,2,3,4,5}\n",
        "print(A)\n",
        "A.remove(1)\n",
        "print(A)\n",
        "\n",
        "#Se pueden encontrar los elementos contenidos en únicamente en un set usando el método de la diferencia\n",
        "#Método 1\n",
        "A={1,2,3,4,5}\n",
        "B={1,3,9, 12}\n",
        "print(A)\n",
        "print(B)\n",
        "C=A-B\n",
        "print(C)\n",
        "#Método 2\n",
        "A={1,2,3,4,5}\n",
        "B={1,3,9, 12}\n",
        "print(A)\n",
        "print(B)\n",
        "C=A.difference(B)\n",
        "print(C)\n",
        "\n",
        "#Misma operación, pero cambiando el orden. Se encuentran los elementos únicos del otro set\n",
        "#Método 1\n",
        "A={1,2,3,4,5}\n",
        "B={1,3,9, 12}\n",
        "print(A)\n",
        "print(B)\n",
        "C=B-A\n",
        "print(C)\n",
        "#Método 2\n",
        "A={1,2,3,4,5}\n",
        "B={1,3,9, 12}\n",
        "print(A)\n",
        "print(B)\n",
        "C=B.difference(A)\n",
        "print(C)\n",
        "\n",
        "#Unión o suma de dos sets\n",
        "A={1,2,3,4,5}\n",
        "B={1,3,9, 12}\n",
        "print(A)\n",
        "print(B)\n",
        "C=A.union(B)\n",
        "print(C)\n",
        "\n",
        "#Determinar si un set es subset o superset:\n",
        "print(A.issubset(C))\n",
        "print(A.issuperset(C))\n",
        "\n",
        "#Comparacion de sumas de sets y listas; las listas suman los valores de todos los elementos, los sets solo los elementos no repetidos\n",
        "A = [1, 2, 2, 1]  \n",
        "B = set([1, 2, 2, 1])\n",
        "print(A)\n",
        "print(B)\n",
        "print('La suma de A es:', sum(A))\n",
        "print('La suma de B es:', sum(B))"
      ],
      "metadata": {
        "id": "SNaJd73KWNrH",
        "outputId": "78f422c0-c5ac-497a-ff50-ebf07a898d82",
        "colab": {
          "base_uri": "https://localhost:8080/"
        }
      },
      "execution_count": 74,
      "outputs": [
        {
          "output_type": "stream",
          "name": "stdout",
          "text": [
            "{'A', 'C', 'B'}\n",
            "{'A', 'D', 'C', 'B'}\n",
            "{1, 2, 3, 4, 5}\n",
            "{1, 3, 12, 9}\n",
            "{1, 3}\n",
            "{1, 2, 3, 4, 5}\n",
            "{1, 3, 12, 9}\n",
            "{1, 3}\n",
            "True\n",
            "{1, 2, 3, 4, 5}\n",
            "{2, 3, 4, 5}\n",
            "{1, 2, 3, 4, 5}\n",
            "{1, 3, 12, 9}\n",
            "{2, 4, 5}\n",
            "{1, 2, 3, 4, 5}\n",
            "{1, 3, 12, 9}\n",
            "{2, 4, 5}\n",
            "{1, 2, 3, 4, 5}\n",
            "{1, 3, 12, 9}\n",
            "{9, 12}\n",
            "{1, 2, 3, 4, 5}\n",
            "{1, 3, 12, 9}\n",
            "{9, 12}\n",
            "{1, 2, 3, 4, 5}\n",
            "{1, 3, 12, 9}\n",
            "{1, 2, 3, 4, 5, 9, 12}\n",
            "True\n",
            "False\n",
            "[1, 2, 2, 1]\n",
            "{1, 2}\n",
            "La suma de A es: 6\n",
            "La suma de B es: 3\n"
          ]
        }
      ]
    },
    {
      "cell_type": "markdown",
      "source": [
        "Diccionarios"
      ],
      "metadata": {
        "id": "5NTbik7I1B6e"
      }
    },
    {
      "cell_type": "code",
      "source": [
        "#Crear un diccionario\n",
        "D={'a':0,'b':1,'c':2}\n",
        "print(D)\n",
        "\n",
        "#Extraer el valor de un key en un diccionario\n",
        "print(D['b'])\n",
        "\n",
        "#Extraer todos los keys de un diccionario\n",
        "print(D.keys())\n",
        "\n",
        "#Extraer todos los valores de los keys de un diccionario\n",
        "print(D.values())\n",
        "\n",
        "#Crear un diccionario con diferente tipo de keys y valores\n",
        "Dict = {\"key1\": 1, \"key2\": \"2\", \"key3\": [3, 3, 3], \"key4\": (4, 4, 4), ('key5'): 5, (0, 1): 6}\n",
        "print(Dict)\n",
        "\n",
        "#Eliminar entradas de un diccionario:\n",
        "del(Dict[(0,1)])\n",
        "print(Dict)\n",
        "\n",
        "#Verifica si un key está presente en un diccionario\n",
        "print('key2' in Dict)"
      ],
      "metadata": {
        "id": "YyFIV7Hh1CCo",
        "outputId": "43540359-f34b-4f76-8a57-e574a565a1d7",
        "colab": {
          "base_uri": "https://localhost:8080/"
        }
      },
      "execution_count": 86,
      "outputs": [
        {
          "output_type": "stream",
          "name": "stdout",
          "text": [
            "{'a': 0, 'b': 1, 'c': 2}\n",
            "1\n",
            "dict_keys(['a', 'b', 'c'])\n",
            "dict_values([0, 1, 2])\n",
            "{'key1': 1, 'key2': '2', 'key3': [3, 3, 3], 'key4': (4, 4, 4), 'key5': 5, (0, 1): 6}\n",
            "{'key1': 1, 'key2': '2', 'key3': [3, 3, 3], 'key4': (4, 4, 4), 'key5': 5}\n",
            "True\n"
          ]
        }
      ]
    }
  ]
}