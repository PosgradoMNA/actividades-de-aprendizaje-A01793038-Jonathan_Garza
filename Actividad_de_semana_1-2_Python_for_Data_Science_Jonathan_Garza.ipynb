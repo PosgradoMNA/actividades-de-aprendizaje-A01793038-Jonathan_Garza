{
  "nbformat": 4,
  "nbformat_minor": 0,
  "metadata": {
    "colab": {
      "name": "assignment01.ipynb",
      "provenance": [],
      "include_colab_link": true
    },
    "kernelspec": {
      "name": "python3",
      "display_name": "Python 3"
    },
    "language_info": {
      "name": "python"
    }
  },
  "cells": [
    {
      "cell_type": "markdown",
      "metadata": {
        "id": "view-in-github",
        "colab_type": "text"
      },
      "source": [
        "<a href=\"https://colab.research.google.com/github/PosgradoMNA/actividades-de-aprendizaje-A01793038-Jonathan_Garza/blob/main/Actividad_de_semana_1-2_Python_for_Data_Science_Jonathan_Garza.ipynb\" target=\"_parent\"><img src=\"https://colab.research.google.com/assets/colab-badge.svg\" alt=\"Open In Colab\"/></a>"
      ]
    },
    {
      "cell_type": "code",
      "execution_count": 2,
      "metadata": {
        "id": "LzUSMM79NR9P",
        "outputId": "63809561-ba79-4d43-802f-a69ee3737560",
        "colab": {
          "base_uri": "https://localhost:8080/"
        }
      },
      "outputs": [
        {
          "output_type": "stream",
          "name": "stdout",
          "text": [
            "Hola Mundo\n",
            "Hello\n",
            "World\n"
          ]
        }
      ],
      "source": [
        "#Primer Programa de Jonathan - Esta línea no se ejecutará porque es un comentario\n",
        "print('Hola Mundo')\n",
        "\n",
        "#La siguiente línea imprimirá en pantalla la misma frase, pero con un salto de línea:\n",
        "print(\"Hello\\nWorld\")"
      ]
    },
    {
      "cell_type": "code",
      "source": [],
      "metadata": {
        "id": "mxM_WppZPMFx"
      },
      "execution_count": null,
      "outputs": []
    }
  ]
}