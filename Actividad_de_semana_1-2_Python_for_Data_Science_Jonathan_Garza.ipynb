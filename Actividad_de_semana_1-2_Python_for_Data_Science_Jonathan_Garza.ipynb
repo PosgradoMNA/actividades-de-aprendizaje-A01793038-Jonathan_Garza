{
  "nbformat": 4,
  "nbformat_minor": 0,
  "metadata": {
    "colab": {
      "name": "assignment01.ipynb",
      "provenance": [],
      "include_colab_link": true
    },
    "kernelspec": {
      "name": "python3",
      "display_name": "Python 3"
    },
    "language_info": {
      "name": "python"
    }
  },
  "cells": [
    {
      "cell_type": "markdown",
      "metadata": {
        "id": "view-in-github",
        "colab_type": "text"
      },
      "source": [
        "<a href=\"https://colab.research.google.com/github/PosgradoMNA/actividades-de-aprendizaje-A01793038-Jonathan_Garza/blob/main/Actividad_de_semana_1-2_Python_for_Data_Science_Jonathan_Garza.ipynb\" target=\"_parent\"><img src=\"https://colab.research.google.com/assets/colab-badge.svg\" alt=\"Open In Colab\"/></a>"
      ]
    },
    {
      "cell_type": "markdown",
      "source": [
        "El primer programa en Python the Jonathan"
      ],
      "metadata": {
        "id": "O7V7f115abQS"
      }
    },
    {
      "cell_type": "code",
      "execution_count": null,
      "metadata": {
        "id": "LzUSMM79NR9P",
        "outputId": "63809561-ba79-4d43-802f-a69ee3737560",
        "colab": {
          "base_uri": "https://localhost:8080/"
        }
      },
      "outputs": [
        {
          "output_type": "stream",
          "name": "stdout",
          "text": [
            "Hola Mundo\n",
            "Hello\n",
            "World\n"
          ]
        }
      ],
      "source": [
        "#Primer Programa de Jonathan - Esta línea no se ejecutará porque es un comentario\n",
        "print('Hola Mundo')\n",
        "\n",
        "#La siguiente línea imprimirá en pantalla la misma frase, pero con un salto de línea:\n",
        "print(\"Hello\\nWorld\")"
      ]
    },
    {
      "cell_type": "markdown",
      "source": [
        "Tipos de Datos"
      ],
      "metadata": {
        "id": "KoodIda1anuT"
      }
    },
    {
      "cell_type": "code",
      "source": [
        "# String\n",
        "tipo_string=type('Hola Mundo')\n",
        "\n",
        "print(tipo_string)\n",
        "\n",
        "#Integer\n",
        "\n",
        "tipo_integer=type(1)\n",
        "\n",
        "print(tipo_integer)\n",
        "\n",
        "#Float\n",
        "tipo_float=type(1.1)\n",
        "\n",
        "print(tipo_float)\n",
        "\n",
        "#Bool\n",
        "\n",
        "tipo_bool=type(True);\n",
        "\n",
        "print(tipo_bool)\n",
        "\n",
        "#Cambio de tipo de datos ¿Un número siempre es un número?\n",
        "\n",
        "#String\n",
        "tipo_actual=type('1')\n",
        "\n",
        "print(tipo_actual)\n",
        "\n",
        "#Cambio a Integer\n",
        "\n",
        "tipo_actual=type(int('1'))\n",
        "\n",
        "print(tipo_actual)\n",
        "\n",
        "#Cambio a Float\n",
        "\n",
        "tipo_actual=type(float('1'))\n",
        "\n",
        "print(tipo_actual)\n",
        "\n",
        "#Cambio a bool\n",
        "\n",
        "#Cambio a Float\n",
        "\n",
        "tipo_actual=type(bool(int('1')))\n",
        "\n",
        "print(tipo_actual)"
      ],
      "metadata": {
        "id": "mxM_WppZPMFx",
        "outputId": "f493ea73-999a-481c-9c35-0334706f8694",
        "colab": {
          "base_uri": "https://localhost:8080/"
        }
      },
      "execution_count": 11,
      "outputs": [
        {
          "output_type": "stream",
          "name": "stdout",
          "text": [
            "<class 'str'>\n",
            "<class 'int'>\n",
            "<class 'float'>\n",
            "<class 'bool'>\n",
            "<class 'str'>\n",
            "<class 'int'>\n",
            "<class 'float'>\n",
            "<class 'bool'>\n"
          ]
        }
      ]
    }
  ]
}