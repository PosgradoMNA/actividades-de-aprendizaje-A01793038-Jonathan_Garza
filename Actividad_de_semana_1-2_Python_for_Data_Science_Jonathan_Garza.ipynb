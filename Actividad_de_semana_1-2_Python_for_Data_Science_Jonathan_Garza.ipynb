{
  "nbformat": 4,
  "nbformat_minor": 0,
  "metadata": {
    "colab": {
      "name": "assignment01.ipynb",
      "provenance": [],
      "include_colab_link": true
    },
    "kernelspec": {
      "name": "python3",
      "display_name": "Python 3"
    },
    "language_info": {
      "name": "python"
    }
  },
  "cells": [
    {
      "cell_type": "markdown",
      "metadata": {
        "id": "view-in-github",
        "colab_type": "text"
      },
      "source": [
        "<a href=\"https://colab.research.google.com/github/PosgradoMNA/actividades-de-aprendizaje-A01793038-Jonathan_Garza/blob/main/Actividad_de_semana_1-2_Python_for_Data_Science_Jonathan_Garza.ipynb\" target=\"_parent\"><img src=\"https://colab.research.google.com/assets/colab-badge.svg\" alt=\"Open In Colab\"/></a>"
      ]
    },
    {
      "cell_type": "markdown",
      "source": [
        "**Módulo 1: Python Basics**"
      ],
      "metadata": {
        "id": "uWhi7sWTyrND"
      }
    },
    {
      "cell_type": "markdown",
      "source": [
        "El primer programa en Python the Jonathan"
      ],
      "metadata": {
        "id": "O7V7f115abQS"
      }
    },
    {
      "cell_type": "code",
      "execution_count": null,
      "metadata": {
        "id": "LzUSMM79NR9P",
        "outputId": "63809561-ba79-4d43-802f-a69ee3737560",
        "colab": {
          "base_uri": "https://localhost:8080/"
        }
      },
      "outputs": [
        {
          "output_type": "stream",
          "name": "stdout",
          "text": [
            "Hola Mundo\n",
            "Hello\n",
            "World\n"
          ]
        }
      ],
      "source": [
        "#Primer Programa de Jonathan - Esta línea no se ejecutará porque es un comentario\n",
        "print('Hola Mundo')\n",
        "\n",
        "#La siguiente línea imprimirá en pantalla la misma frase, pero con un salto de línea:\n",
        "print(\"Hello\\nWorld\")"
      ]
    },
    {
      "cell_type": "markdown",
      "source": [
        "Tipos de Datos"
      ],
      "metadata": {
        "id": "KoodIda1anuT"
      }
    },
    {
      "cell_type": "code",
      "source": [
        "#Importar módulo de información del sisteme\n",
        "import sys\n",
        "\n",
        "#Versión de Python\n",
        "print(sys.version)\n",
        "\n",
        "# String\n",
        "tipo_string=type('Hola Mundo')\n",
        "\n",
        "print(tipo_string)\n",
        "\n",
        "#Integer\n",
        "\n",
        "tipo_integer=type(1)\n",
        "\n",
        "print(tipo_integer)\n",
        "\n",
        "#Float\n",
        "tipo_float=type(1.1)\n",
        "\n",
        "print(tipo_float)\n",
        "\n",
        "#Bool\n",
        "\n",
        "tipo_bool=type(True);\n",
        "\n",
        "print(tipo_bool)\n",
        "\n",
        "#Cambio de tipo de datos ¿Un número siempre es un número?\n",
        "\n",
        "#String\n",
        "tipo_actual=type('1')\n",
        "\n",
        "print(tipo_actual)\n",
        "\n",
        "#Cambio a Integer\n",
        "\n",
        "tipo_actual=type(int('1'))\n",
        "\n",
        "print(tipo_actual)\n",
        "\n",
        "#Cambio a Float\n",
        "\n",
        "tipo_actual=type(float('1'))\n",
        "\n",
        "#¿Cual es el número más grande y pequeño que se puede representar por el sistema?\n",
        "print(sys.float_info)\n",
        "\n",
        "print(tipo_actual)\n",
        "\n",
        "#Cambio a bool\n",
        "\n",
        "tipo_actual=type(bool(int('1')))\n",
        "\n",
        "print(tipo_actual)"
      ],
      "metadata": {
        "id": "mxM_WppZPMFx",
        "colab": {
          "base_uri": "https://localhost:8080/"
        },
        "outputId": "6687a1d0-6cf2-4c18-b306-5565edade620"
      },
      "execution_count": 17,
      "outputs": [
        {
          "output_type": "stream",
          "name": "stdout",
          "text": [
            "3.7.14 (default, Sep  8 2022, 00:06:44) \n",
            "[GCC 7.5.0]\n",
            "<class 'str'>\n",
            "<class 'int'>\n",
            "<class 'float'>\n",
            "<class 'bool'>\n",
            "<class 'str'>\n",
            "<class 'int'>\n",
            "sys.float_info(max=1.7976931348623157e+308, max_exp=1024, max_10_exp=308, min=2.2250738585072014e-308, min_exp=-1021, min_10_exp=-307, dig=15, mant_dig=53, epsilon=2.220446049250313e-16, radix=2, rounds=1)\n",
            "<class 'float'>\n",
            "<class 'bool'>\n"
          ]
        }
      ]
    },
    {
      "cell_type": "markdown",
      "source": [
        "Expresiones y Variables"
      ],
      "metadata": {
        "id": "dB26rFZ7iLLR"
      }
    },
    {
      "cell_type": "code",
      "source": [
        "#Suma\n",
        "print(1+2)\n",
        "\n",
        "#Resta\n",
        "print(1-2)\n",
        "\n",
        "#Multiplicación\n",
        "print(2*3)\n",
        "\n",
        "#División\n",
        "print(3/2)\n",
        "\n",
        "#División de Enteros (sólo se entrega el resultado entero de la operación)\n",
        "print(3//2)\n",
        "\n",
        "#Operaciones matemáticas: primero se realizan las multiplicaciones o divisiones y luego las sumas o restas\n",
        "print(3*2+1)\n",
        "\n",
        "#Variables: asignación\n",
        "x=2\n",
        "\n",
        "#Operaciones con variables\n",
        "y=x*2+1\n",
        "print(y)"
      ],
      "metadata": {
        "id": "Lq7_zGT3iRNF",
        "outputId": "d66f77af-273e-4db8-94d3-183ed9f93d08",
        "colab": {
          "base_uri": "https://localhost:8080/"
        }
      },
      "execution_count": 16,
      "outputs": [
        {
          "output_type": "stream",
          "name": "stdout",
          "text": [
            "3\n",
            "-1\n",
            "6\n",
            "1.5\n",
            "1\n",
            "7\n",
            "5\n"
          ]
        }
      ]
    },
    {
      "cell_type": "markdown",
      "source": [
        "Operaciones con String"
      ],
      "metadata": {
        "id": "ruBGcVBpo9fk"
      }
    },
    {
      "cell_type": "code",
      "source": [
        "#Crear un string y asignarlo a una variable\n",
        "Letras='ABCDEFGHIJK'\n",
        "print(Letras)\n",
        "\n",
        "#Desplegar los primeros cuatro elementos del string\n",
        "Letras[0:4]\n",
        "\n",
        "#Crear un string y desplegar sus elementos en incrementos de 2\n",
        "Good='GsoAo+d'\n",
        "print(Good)\n",
        "print(Good[::2])\n",
        "\n",
        "#Cambiar de minúsculas a mayúsculas\n",
        "print('mayusculas')\n",
        "print('mayusculas'.upper())\n",
        "\n",
        "#Cambiar de mayúsculas a minúsculas\n",
        "print('MINUSCULAS')\n",
        "print('MINUSCULAS'.lower())\n",
        "\n",
        "#Sumar o concatenar strings\n",
        "print('Soy'+' Jonathan')\n",
        "\n",
        "#Multiplicación de Strings\n",
        "print(3*'Jonathan')\n",
        "\n",
        "#Encontrar un elemente de un String\n",
        "'Jonathan'.find('t')\n",
        "\n",
        "#Despleagar los elementos pares\n",
        "Numbers = \"0123456\"\n",
        "print(Numbers[::2])\n",
        "\n",
        "#Uso de índices negativos (la cuenta empieza del final al principio)\n",
        "Nombre='Jonathan'\n",
        "print(Nombre[-8])\n",
        "\n",
        "#Secuencias de escape en strings\n",
        "#Nueva línea\n",
        "print(\"Michael Jackson \\n is the best\" )\n",
        "\n",
        "#Tab\n",
        "print(\"Michael Jackson \\t is the best\" )\n",
        "\n",
        "#Incluir diagonal invertida en el string\n",
        "print(\"Michael Jackson \\\\ is the best\" )\n",
        "\n",
        "# r indica a Python que el string se deplegará tal cual incluyendo la diagonal invertida\n",
        "print(r\"Michael Jackson \\ is the best\" )\n",
        "\n",
        "#Reemplazar un sub-string por otro\n",
        "a='Michael Jackson'\n",
        "b=a.replace('Michael','Janet')\n",
        "print(b)"
      ],
      "metadata": {
        "id": "qTNbWczJo-O4",
        "outputId": "8e713772-d101-4aa9-fd0c-1c203e530c0c",
        "colab": {
          "base_uri": "https://localhost:8080/"
        }
      },
      "execution_count": 37,
      "outputs": [
        {
          "output_type": "stream",
          "name": "stdout",
          "text": [
            "ABCDEFGHIJK\n",
            "GsoAo+d\n",
            "Good\n",
            "mayusculas\n",
            "MAYUSCULAS\n",
            "MINUSCULAS\n",
            "minusculas\n",
            "Soy Jonathan\n",
            "JonathanJonathanJonathan\n",
            "0246\n",
            "J\n",
            "Michael Jackson \n",
            " is the best\n",
            "Michael Jackson \t is the best\n",
            "Michael Jackson \\ is the best\n",
            "Michael Jackson \\ is the best\n",
            "Janet Jackson\n"
          ]
        }
      ]
    }
  ]
}