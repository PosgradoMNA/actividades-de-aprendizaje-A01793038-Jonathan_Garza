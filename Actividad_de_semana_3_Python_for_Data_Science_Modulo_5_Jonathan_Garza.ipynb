{
  "nbformat": 4,
  "nbformat_minor": 0,
  "metadata": {
    "colab": {
      "provenance": [],
      "authorship_tag": "ABX9TyO+SN3FbnkCfVAVLXFJaYYk",
      "include_colab_link": true
    },
    "kernelspec": {
      "name": "python3",
      "display_name": "Python 3"
    },
    "language_info": {
      "name": "python"
    }
  },
  "cells": [
    {
      "cell_type": "markdown",
      "metadata": {
        "id": "view-in-github",
        "colab_type": "text"
      },
      "source": [
        "<a href=\"https://colab.research.google.com/github/PosgradoMNA/actividades-de-aprendizaje-A01793038-Jonathan_Garza/blob/main/Actividad_de_semana_3_Python_for_Data_Science_Modulo_5_Jonathan_Garza.ipynb\" target=\"_parent\"><img src=\"https://colab.research.google.com/assets/colab-badge.svg\" alt=\"Open In Colab\"/></a>"
      ]
    },
    {
      "cell_type": "markdown",
      "source": [
        "**Instituto Tecnológico y de Estudios Superiores de Monterrey**\n",
        "\n",
        "Maestría en Inteligencia Artificial Aplicada (MNA)\n",
        "\n",
        "Ciencia y Analítica de Datos\n",
        "\n",
        "**Actividad de Semana 3: Python for Data Science Módulo 5**\n",
        "\n",
        "**Jonathan Garza Bennet - A01793038**"
      ],
      "metadata": {
        "id": "Ycpfucc0nnuz"
      }
    },
    {
      "cell_type": "markdown",
      "source": [
        "Trabajando con Arrays Numpy 1D"
      ],
      "metadata": {
        "id": "OnzNIQitoecz"
      }
    },
    {
      "cell_type": "code",
      "execution_count": 26,
      "metadata": {
        "colab": {
          "base_uri": "https://localhost:8080/"
        },
        "id": "3DRC8KGSnlgM",
        "outputId": "52bdb50c-525e-42e4-b32d-49b9b72ac9de"
      },
      "outputs": [
        {
          "output_type": "stream",
          "name": "stdout",
          "text": [
            "El tipo de variable de a es: <class 'list'>\n",
            "El tipo de variable de b es: <class 'numpy.ndarray'>\n",
            "La forma de la variable de b es: (5,)\n",
            "El tipo de datos en b es: int64\n",
            "El promedio de b es: 3.0\n",
            "c[0] = 0\n",
            "c[1] = 1\n",
            "c[2] = two\n",
            "c[3] = 3\n",
            "c[4] = 4\n",
            "b[0] = 1\n",
            "b[1] = 2\n",
            "b[2] = 3\n",
            "b[3] = 4\n",
            "b[4] = 5\n",
            "La versión de Numpy es: 1.21.6\n",
            "El tipo de datos en d es: float64\n",
            "El valor anterior de es b[0] = 1\n",
            "El nuevo valor de es b[0] = 20\n",
            "El valor anterior de es b[1] = 2\n",
            "El nuevo valor de es b[1] = 19\n",
            "El valor anterior de es b[2] = 3\n",
            "El nuevo valor de es b[2] = 7\n",
            "El valor anterior de es b[3] = 4\n",
            "El nuevo valor de es b[3] = 11\n",
            "El valor anterior de es b[4] = 5\n",
            "El nuevo valor de es b[4] = 13\n"
          ]
        }
      ],
      "source": [
        "from IPython.utils.path import random\n",
        "#Impotar librería numpy y asignarla a np\n",
        "import numpy as np\n",
        "\n",
        "#Crear un Array generíco de Python\n",
        "a=[1,2,3,4,5]\n",
        "\n",
        "#Transformarlo a un array numpy\n",
        "\n",
        "b=np.array(a)\n",
        "\n",
        "#Imprimir el tipo de las variables\n",
        "print('El tipo de variable de a es:',type(a))\n",
        "print('El tipo de variable de b es:',type(b))\n",
        "\n",
        "#Imprimir la forma de b\n",
        "print('La forma de la variable de b es:',b.shape)\n",
        "\n",
        "#Imprimir el tipo de datos en b\n",
        "print('El tipo de datos en b es:',b.dtype)\n",
        "\n",
        "#Imprimir el promedio de b\n",
        "print('El promedio de b es:',b.mean())\n",
        "\n",
        "#Crear un array con diferente tipo de datos\n",
        "c = [\"0\", 1, \"two\", \"3\", 4]\n",
        "\n",
        "#Imprimir todos los elementos de c\n",
        "for i,elemento in enumerate(c):\n",
        "  print('c['+str(i)+'] =', c[i])\n",
        "\n",
        "#Imprimir todos los elementos de el array Numpy b\n",
        "for i,elemento in enumerate(b):\n",
        "  print('b['+str(i)+'] =', b[i])\n",
        "\n",
        "#Imprimir la versión de Numpy\n",
        "print('La versión de Numpy es:',np.__version__)\n",
        "\n",
        "#Definir un nuevo array con números reales:\n",
        "d = np.array([3.1, 11.02, 6.2, 213.2, 5.2])\n",
        "\n",
        "#Imprimir el tipo de datos en d\n",
        "print('El tipo de datos en d es:',d.dtype)\n",
        "\n",
        "#Cambiar los valores de bpor un número aleatorio entre 0 y 20\n",
        "for i,elemento in enumerate(b):\n",
        "  print('El valor anterior de es b['+str(i)+'] =', b[i])\n",
        "  b[i]=random.randint(0,20)\n",
        "  print('El nuevo valor de es b['+str(i)+'] =', b[i])\n",
        "\n",
        "\n"
      ]
    }
  ]
}