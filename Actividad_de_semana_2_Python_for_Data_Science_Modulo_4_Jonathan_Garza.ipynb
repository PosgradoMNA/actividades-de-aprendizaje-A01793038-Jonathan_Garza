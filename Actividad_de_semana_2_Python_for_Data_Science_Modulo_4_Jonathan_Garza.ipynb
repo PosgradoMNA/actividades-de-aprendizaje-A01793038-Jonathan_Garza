{
  "nbformat": 4,
  "nbformat_minor": 0,
  "metadata": {
    "colab": {
      "name": "assignment01.ipynb",
      "provenance": [],
      "include_colab_link": true
    },
    "kernelspec": {
      "name": "python3",
      "display_name": "Python 3"
    },
    "language_info": {
      "name": "python"
    }
  },
  "cells": [
    {
      "cell_type": "markdown",
      "metadata": {
        "id": "view-in-github",
        "colab_type": "text"
      },
      "source": [
        "<a href=\"https://colab.research.google.com/github/PosgradoMNA/actividades-de-aprendizaje-A01793038-Jonathan_Garza/blob/main/Actividad_de_semana_2_Python_for_Data_Science_Modulo_4_Jonathan_Garza.ipynb\" target=\"_parent\"><img src=\"https://colab.research.google.com/assets/colab-badge.svg\" alt=\"Open In Colab\"/></a>"
      ]
    },
    {
      "cell_type": "markdown",
      "source": [],
      "metadata": {
        "id": "yZR-yWUbm-nh"
      }
    },
    {
      "cell_type": "code",
      "execution_count": 24,
      "metadata": {
        "id": "LzUSMM79NR9P",
        "outputId": "8f728abd-f2c4-4b99-939f-7e62c1aa8a64",
        "colab": {
          "base_uri": "https://localhost:8080/"
        }
      },
      "outputs": [
        {
          "output_type": "stream",
          "name": "stdout",
          "text": [
            "--2022-09-25 22:38:47--  https://cf-courses-data.s3.us.cloud-object-storage.appdomain.cloud/IBMDeveloperSkillsNetwork-PY0101EN-SkillsNetwork/labs/Module%204/data/example1.txt\n",
            "Resolving cf-courses-data.s3.us.cloud-object-storage.appdomain.cloud (cf-courses-data.s3.us.cloud-object-storage.appdomain.cloud)... 169.63.118.104\n",
            "Connecting to cf-courses-data.s3.us.cloud-object-storage.appdomain.cloud (cf-courses-data.s3.us.cloud-object-storage.appdomain.cloud)|169.63.118.104|:443... connected.\n",
            "HTTP request sent, awaiting response... 200 OK\n",
            "Length: 45 [text/plain]\n",
            "Saving to: ‘example1.txt’\n",
            "\n",
            "\rexample1.txt          0%[                    ]       0  --.-KB/s               \rexample1.txt        100%[===================>]      45  --.-KB/s    in 0s      \n",
            "\n",
            "2022-09-25 22:38:47 (9.26 MB/s) - ‘example1.txt’ saved [45/45]\n",
            "\n",
            "El nombre del archivo es: example1.txt\n",
            "El modo en el que se abrió es: r\n",
            "El contenido del archivo es:\n",
            "This is line 1 \n",
            "This is line 2\n",
            "This is line 3\n",
            "El tipo de datos del archivo es: <class 'str'>\n",
            "El contenido del archivo es:\n",
            "This is line 1 \n",
            "This is line 2\n",
            "This is line 3\n",
            "¿El archivo se cerró?: True\n",
            "Los primeros cuatro caracteres del archivo son: This\n",
            "Los primeros cuatro caracteres del archivo son: This\n",
            "Los siguientes cuatro caracteres del archivo son:  is \n",
            "Los siguientes siete caracteres del archivo son: line 1 \n",
            "Los siguientes quince caracteres del archivo son: \n",
            "This is line 2\n",
            "La primera línea del archivo es: This is line 1 \n",
            "\n",
            "Los primeros 20 caracteres de la primera línea del archivo son: This is line 1 \n",
            "\n",
            "Los siguientes veinte caracteres del archivo son: This is line 2\n",
            "This \n",
            "Iteración 0 :  This is line 1 \n",
            "\n",
            "Iteración 1 :  This is line 2\n",
            "\n",
            "Iteración 2 :  This is line 3\n"
          ]
        }
      ],
      "source": [
        "#Importar librería urllib.request\n",
        "import urllib.request\n",
        "\n",
        "#Definir URL de donde descargar el archivo muestra\n",
        "url = 'https://cf-courses-data.s3.us.cloud-object-storage.appdomain.cloud/IBMDeveloperSkillsNetwork-PY0101EN-SkillsNetwork/labs/Module%204/data/example1.txt'\n",
        "\n",
        "#Definir nombre del archivo a descargar\n",
        "filename = 'example1.txt'\n",
        "\n",
        "#Definir objeto\n",
        "urllib.request.urlretrieve(url, filename)\n",
        "\n",
        "#Descargar Archivo\n",
        "!wget -O example1.txt https://cf-courses-data.s3.us.cloud-object-storage.appdomain.cloud/IBMDeveloperSkillsNetwork-PY0101EN-SkillsNetwork/labs/Module%204/data/example1.txt\n",
        "\n",
        "#Definir nombre del archivo a abrir\n",
        "example1 = \"example1.txt\"\n",
        "\n",
        "#Abrir archivo en modo de lectura\n",
        "file1 = open(example1, \"r\")\n",
        "\n",
        "#Desplegar nombre del archivo\n",
        "print('El nombre del archivo es:',file1.name)\n",
        "\n",
        "#Deplegar el modo en quese abrió el archivo r: lectura o w: escritura\n",
        "print('El modo en el que se abrió es:', file1.mode)\n",
        "\n",
        "#Leer el contenido del archivo\n",
        "FileContent = file1.read()\n",
        "print('El contenido del archivo es:\\n'+FileContent)\n",
        "\n",
        "#Desplegar el tipo de datos en el archivo:\n",
        "print('El tipo de datos del archivo es:',type(FileContent))\n",
        "\n",
        "#Siempre se debe de cerrar un archivo cuando se termine de trabajar con él:\n",
        "file1.close()\n",
        "\n",
        "#Una mejor forma de abrir un archivo es usar 'with', se abre y se cierra automáticamente el archivo aunque existan excepciones durante el proceso\n",
        "with open(example1, \"r\") as file1:\n",
        "    #Leer el contenido del archivo\n",
        "    FileContent = file1.read()\n",
        "    print('El contenido del archivo es:\\n'+FileContent)\n",
        "\n",
        "#Verificar si realmente se cerró el archivo al terminar 'with'\n",
        "print('¿El archivo se cerró?:',file1.closed)\n",
        "\n",
        "#Abrir archivo e imprimir los primeros cuatro caracteres\n",
        "with open(example1, \"r\") as file1:\n",
        "    print('Los primeros cuatro caracteres del archivo son:',file1.read(4))\n",
        "\n",
        "#Abrir archivo e imprimir caracteres en secciones\n",
        "with open(example1, \"r\") as file1:\n",
        "    print('Los primeros cuatro caracteres del archivo son:',file1.read(4))\n",
        "    print('Los siguientes cuatro caracteres del archivo son:',file1.read(4))\n",
        "    print('Los siguientes siete caracteres del archivo son:',file1.read(7))\n",
        "    print('Los siguientes quince caracteres del archivo son:',file1.read(15))\n",
        "\n",
        "#Leer e imprimir la primera línea del archivo\n",
        "with open(example1, \"r\") as file1:\n",
        "    print(\"La primera línea del archivo es:\",file1.readline())\n",
        "\n",
        "#Leer número específico de caracteres en una línea\n",
        "with open(example1, \"r\") as file1:\n",
        "    print(\"Los primeros 20 caracteres de la primera línea del archivo son:\",file1.readline())\n",
        "    print('Los siguientes veinte caracteres del archivo son:',file1.read(20))\n",
        "\n",
        "#También se pueden usar ciclos for para iterear entre las líneas\n",
        "with open(example1,\"r\") as file1:\n",
        "        i = 0;\n",
        "        for line in file1:\n",
        "            print(\"Iteración\", str(i), \": \", line)\n",
        "            i = i + 1"
      ]
    },
    {
      "cell_type": "code",
      "source": [],
      "metadata": {
        "id": "mxM_WppZPMFx"
      },
      "execution_count": null,
      "outputs": []
    }
  ]
}